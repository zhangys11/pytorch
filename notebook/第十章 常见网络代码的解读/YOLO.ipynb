{
 "cells": [
  {
   "cell_type": "markdown",
   "id": "43162bab-7224-4c13-93da-b7b0a477a900",
   "metadata": {},
   "source": [
    "YOLO v8"
   ]
  },
  {
   "cell_type": "code",
   "execution_count": null,
   "id": "02105517-38cf-47e6-afdf-e7120b997185",
   "metadata": {},
   "outputs": [],
   "source": []
  },
  {
   "cell_type": "code",
   "execution_count": null,
   "id": "42d2b83a-730c-4c4b-9915-24505e478864",
   "metadata": {},
   "outputs": [],
   "source": []
  }
 ],
 "metadata": {
  "kernelspec": {
   "display_name": "Python 3 (ipykernel)",
   "language": "python",
   "name": "python3"
  },
  "language_info": {
   "codemirror_mode": {
    "name": "ipython",
    "version": 3
   },
   "file_extension": ".py",
   "mimetype": "text/x-python",
   "name": "python",
   "nbconvert_exporter": "python",
   "pygments_lexer": "ipython3",
   "version": "3.12.3"
  }
 },
 "nbformat": 4,
 "nbformat_minor": 5
}
