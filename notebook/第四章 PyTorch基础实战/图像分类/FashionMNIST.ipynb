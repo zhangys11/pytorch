{
 "cells": [
  {
   "cell_type": "markdown",
   "id": "vanilla-progress",
   "metadata": {},
   "source": [
    "# 第四章 基础实战——FashionMNIST时装分类"
   ]
  },
  {
   "cell_type": "markdown",
   "id": "metallic-oxford",
   "metadata": {},
   "source": [
    "<img src=\"./fashion-mnist-sprite.png\" width=\"400\" />  \n",
    "<table>\n",
    "<thead>\n",
    "<tr>\n",
    "<th>Label</th>\n",
    "<th>Description</th>\n",
    "</tr>\n",
    "</thead>\n",
    "<tbody>\n",
    "<tr>\n",
    "<td>0</td>\n",
    "<td>T-shirt/top</td>\n",
    "</tr>\n",
    "<tr>\n",
    "<td>1</td>\n",
    "<td>Trouser</td>\n",
    "</tr>\n",
    "<tr>\n",
    "<td>2</td>\n",
    "<td>Pullover</td>\n",
    "</tr>\n",
    "<tr>\n",
    "<td>3</td>\n",
    "<td>Dress</td>\n",
    "</tr>\n",
    "<tr>\n",
    "<td>4</td>\n",
    "<td>Coat</td>\n",
    "</tr>\n",
    "<tr>\n",
    "<td>5</td>\n",
    "<td>Sandal</td>\n",
    "</tr>\n",
    "<tr>\n",
    "<td>6</td>\n",
    "<td>Shirt</td>\n",
    "</tr>\n",
    "<tr>\n",
    "<td>7</td>\n",
    "<td>Sneaker</td>\n",
    "</tr>\n",
    "<tr>\n",
    "<td>8</td>\n",
    "<td>Bag</td>\n",
    "</tr>\n",
    "<tr>\n",
    "<td>9</td>\n",
    "<td>Ankle boot</td>\n",
    "</tr>\n",
    "</tbody>\n",
    "</table>\n",
    "\n",
    "\n",
    "经过前面三章内容的学习，我们完成了以下的内容：  \n",
    "- 对PyTorch有了初步的认识\n",
    "- 学会了如何安装PyTorch以及对应的编程环境\n",
    "- 学习了PyTorch最核心的理论基础（张量&自动求导）\n",
    "- 梳理了利用PyTorch完成深度学习的主要步骤和对应实现方式  \n",
    "  \n",
    "现在，我们通过一个基础实战案例，将第一部分所涉及的PyTorch入门知识串起来，便于大家加深理解。同时为后续的进阶学习打好基础。 \n",
    "  \n",
    "我们这里的任务是对10个类别的“时装”图像进行分类，使用FashionMNIST数据集（https://github.com/zalandoresearch/fashion-mnist/tree/master/data/fashion ）。上图给出了FashionMNIST中数据的若干样例图，其中每个小图对应一个样本。  \n",
    "FashionMNIST数据集中包含已经预先划分好的训练集和测试集，其中训练集共60,000张图像，测试集共10,000张图像。每张图像均为单通道黑白图像，大小为32\\*32pixel，分属10个类别。  \n",
    "  \n",
    "下面让我们一起将第三章各部分内容逐步实现，来跑完整个深度学习流程。"
   ]
  },
  {
   "cell_type": "markdown",
   "id": "finished-scottish",
   "metadata": {},
   "source": [
    "**首先导入必要的包**  "
   ]
  },
  {
   "cell_type": "code",
   "execution_count": 1,
   "id": "involved-milwaukee",
   "metadata": {},
   "outputs": [],
   "source": [
    "import os\n",
    "import numpy as np\n",
    "import pandas as pd\n",
    "import torch\n",
    "import torch.nn as nn\n",
    "import torch.optim as optim\n",
    "from torch.utils.data import Dataset, DataLoader"
   ]
  },
  {
   "cell_type": "markdown",
   "id": "industrial-orange",
   "metadata": {},
   "source": [
    "**配置训练环境和超参数**  \n"
   ]
  },
  {
   "cell_type": "code",
   "execution_count": 2,
   "id": "quarterly-hypothetical",
   "metadata": {},
   "outputs": [],
   "source": [
    "# 配置GPU，这里有两种方式\n",
    "## 方案一：使用os.environ\n",
    "os.environ['CUDA_VISIBLE_DEVICES'] = '0'\n",
    "# 方案二：使用“device”，后续对要使用GPU的变量用.to(device)即可\n",
    "device = torch.device(\"cuda:1\" if torch.cuda.is_available() else \"cpu\")\n",
    "\n",
    "## 配置其他超参数，如batch_size, num_workers, learning rate, 以及总的epochs\n",
    "batch_size = 256\n",
    "num_workers = 4   # 对于Windows用户，这里应设置为0，否则会出现多线程错误\n",
    "lr = 1e-4\n",
    "epochs = 20"
   ]
  },
  {
   "cell_type": "markdown",
   "id": "apparent-reception",
   "metadata": {},
   "source": [
    "**数据读入和加载**  \n",
    "这里同时展示两种方式:  \n",
    "- 下载并使用PyTorch提供的内置数据集  \n",
    "- 从网站下载以csv格式存储的数据，读入并转成预期的格式    \n",
    "第一种数据读入方式只适用于常见的数据集，如MNIST，CIFAR10等，PyTorch官方提供了数据下载。这种方式往往适用于快速测试方法（比如测试下某个idea在MNIST数据集上是否有效）  \n",
    "第二种数据读入方式需要自己构建Dataset，这对于PyTorch应用于自己的工作中十分重要  \n",
    "  \n",
    "同时，还需要对数据进行必要的变换，比如说需要将图片统一为一致的大小，以便后续能够输入网络训练；需要将数据格式转为Tensor类，等等。\n",
    "  \n",
    "这些变换可以很方便地借助torchvision包来完成，这是PyTorch官方用于图像处理的工具库，上面提到的使用内置数据集的方式也要用到。PyTorch的一大方便之处就在于它是一整套“生态”，有着官方和第三方各个领域的支持。这些内容我们会在后续课程中详细介绍。"
   ]
  },
  {
   "cell_type": "code",
   "execution_count": 3,
   "id": "frank-punishment",
   "metadata": {},
   "outputs": [],
   "source": [
    "# 首先设置数据变换\n",
    "from torchvision import transforms\n",
    "\n",
    "image_size = 28\n",
    "data_transform = transforms.Compose([\n",
    "    # transforms.ToPILImage(),   # 这一步取决于后续的数据读取方式，如果使用内置数据集则不需要\n",
    "    transforms.Resize(image_size),\n",
    "    transforms.ToTensor()\n",
    "])"
   ]
  },
  {
   "cell_type": "code",
   "execution_count": 4,
   "id": "canadian-temple",
   "metadata": {
    "scrolled": true
   },
   "outputs": [],
   "source": [
    "## 读取方式一：使用torchvision自带数据集，下载可能需要一段时间\n",
    "from torchvision import datasets\n",
    "\n",
    "ROOT_DIR = '../../data/'\n",
    "train_data = datasets.FashionMNIST(root=ROOT_DIR, train=True, download=True, transform=data_transform)\n",
    "test_data = datasets.FashionMNIST(root=ROOT_DIR, train=False, download=True, transform=data_transform)\n",
    "classes = np.array([\"T-shirt/top\",\"Trouser\",\"Pullover\",\"Dress\",\"Coat\",\"Sandal\",\"Shirt\",\"Sneaker\",\"Bag\",\"Ankle boot\"])"
   ]
  },
  {
   "cell_type": "raw",
   "id": "ff4524df-a06c-4b15-839e-b009d11a60b8",
   "metadata": {
    "scrolled": true
   },
   "source": [
    "## 读取方式二：读入csv格式的数据，自行构建Dataset类\n",
    "# csv数据下载链接：https://www.kaggle.com/zalando-research/fashionmnist\n",
    "class FMDataset(Dataset):\n",
    "    def __init__(self, df, transform=None):\n",
    "        self.df = df\n",
    "        self.transform = transform\n",
    "        self.images = df.iloc[:,1:].values.astype(np.uint8)\n",
    "        self.labels = df.iloc[:, 0].values\n",
    "        \n",
    "    def __len__(self):\n",
    "        return len(self.images)\n",
    "    \n",
    "    def __getitem__(self, idx):\n",
    "        image = self.images[idx].reshape(28,28,1)\n",
    "        label = int(self.labels[idx])\n",
    "        if self.transform is not None:\n",
    "            image = self.transform(image)\n",
    "        else:\n",
    "            image = torch.tensor(image/255., dtype=torch.float)\n",
    "        label = torch.tensor(label, dtype=torch.long)\n",
    "        return image, label\n",
    "\n",
    "train_df = pd.read_csv(ROOT_DIR + \"/FashionMNIST/fashion-mnist_train.csv\")\n",
    "test_df = pd.read_csv(ROOT_DIR + \"/FashionMNIST/fashion-mnist_test.csv\")\n",
    "train_data = FMDataset(train_df, data_transform)\n",
    "test_data = FMDataset(test_df, data_transform)"
   ]
  },
  {
   "cell_type": "markdown",
   "id": "handmade-samba",
   "metadata": {},
   "source": [
    "在构建训练和测试数据集完成后，需要定义DataLoader类，以便在训练和测试时加载数据  \n"
   ]
  },
  {
   "cell_type": "code",
   "execution_count": 5,
   "id": "mobile-training",
   "metadata": {},
   "outputs": [],
   "source": [
    "train_loader = DataLoader(train_data, batch_size=batch_size, shuffle=True, num_workers=num_workers, drop_last=True)\n",
    "test_loader = DataLoader(test_data, batch_size=batch_size, shuffle=False, num_workers=num_workers)"
   ]
  },
  {
   "cell_type": "markdown",
   "id": "elder-hardware",
   "metadata": {},
   "source": [
    "读入后，我们可以做一些数据可视化操作，主要是验证我们读入的数据是否正确"
   ]
  },
  {
   "cell_type": "code",
   "execution_count": 6,
   "id": "accurate-butterfly",
   "metadata": {
    "scrolled": true
   },
   "outputs": [
    {
     "name": "stdout",
     "output_type": "stream",
     "text": [
      "torch.Size([256, 1, 28, 28]) torch.Size([256])\n"
     ]
    },
    {
     "data": {
      "text/plain": [
       "(-0.5, 27.5, 27.5, -0.5)"
      ]
     },
     "execution_count": 6,
     "metadata": {},
     "output_type": "execute_result"
    },
    {
     "data": {
      "image/png": "[encoded data removed]",
      "text/plain": [
       "<Figure size 200x200 with 1 Axes>"
      ]
     },
     "metadata": {},
     "output_type": "display_data"
    }
   ],
   "source": [
    "import matplotlib.pyplot as plt\n",
    "\n",
    "image, label = next(iter(train_loader))\n",
    "print(image.shape, label.shape)\n",
    "plt.figure(figsize=(2,2))\n",
    "plt.imshow(image[0][0], cmap=\"gray\")\n",
    "plt.axis('off')"
   ]
  },
  {
   "cell_type": "markdown",
   "id": "executive-graduate",
   "metadata": {},
   "source": [
    "**模型设计**  \n",
    "由于任务较为简单，这里我们手搭一个CNN，而不考虑当下各种模型的复杂结构  \n",
    "模型构建完成后，将模型放到GPU上用于训练  \n"
   ]
  },
  {
   "cell_type": "code",
   "execution_count": 7,
   "id": "powered-mount",
   "metadata": {},
   "outputs": [],
   "source": [
    "class Net(nn.Module):\n",
    "    def __init__(self):\n",
    "        super(Net, self).__init__()\n",
    "        self.conv = nn.Sequential(\n",
    "            nn.Conv2d(1, 32, 5),\n",
    "            nn.ReLU(),\n",
    "            nn.MaxPool2d(2, stride=2),\n",
    "            nn.Dropout(0.3),\n",
    "            nn.Conv2d(32, 64, 5),\n",
    "            nn.ReLU(),\n",
    "            nn.MaxPool2d(2, stride=2),\n",
    "            nn.Dropout(0.3)\n",
    "        )\n",
    "        self.fc = nn.Sequential(\n",
    "            nn.Linear(64*4*4, 512),\n",
    "            nn.ReLU(),\n",
    "            nn.Linear(512, 10)\n",
    "        )\n",
    "        \n",
    "    def forward(self, x):\n",
    "        x = self.conv(x)\n",
    "        x = x.view(-1, 64*4*4)\n",
    "        x = self.fc(x)\n",
    "        # x = nn.functional.normalize(x)\n",
    "        return x\n",
    "\n",
    "model = Net()\n",
    "model = model.cuda()\n",
    "# model = nn.DataParallel(model).cuda()   # 多卡训练时的写法，之后的课程中会进一步讲解"
   ]
  },
  {
   "cell_type": "code",
   "execution_count": 8,
   "id": "8703b1c4-4b89-45b0-be9a-74ea44824dc8",
   "metadata": {},
   "outputs": [
    {
     "name": "stderr",
     "output_type": "stream",
     "text": [
      "\n",
      "(dot.exe:48992): Pango-WARNING **: couldn't load font \"Linux libertine Not-Rotated 10\", falling back to \"Sans Not-Rotated 10\", expect ugly output.\n"
     ]
    },
    {
     "data": {
      "image/svg+xml": [
       "<?xml version=\"1.0\" encoding=\"UTF-8\" standalone=\"no\"?>\n",
       "<!DOCTYPE svg PUBLIC \"-//W3C//DTD SVG 1.1//EN\"\n",
       " \"http://www.w3.org/Graphics/SVG/1.1/DTD/svg11.dtd\">\n",
       "<!-- Generated by graphviz version 11.0.0 (20240428.1522)\n",
       " -->\n",
       "<!-- Title: model Pages: 1 -->\n",
       "<svg width=\"169pt\" height=\"864pt\"\n",
       " viewBox=\"0.00 0.00 169.24 864.00\" xmlns=\"http://www.w3.org/2000/svg\" xmlns:xlink=\"http://www.w3.org/1999/xlink\">\n",
       "<g id=\"graph0\" class=\"graph\" transform=\"scale(0.790847 0.790847) rotate(0) translate(4 1088.5)\">\n",
       "<title>model</title>\n",
       "<polygon fill=\"white\" stroke=\"none\" points=\"-4,4 -4,-1088.5 210,-1088.5 210,4 -4,4\"/>\n",
       "<g id=\"clust1\" class=\"cluster\">\n",
       "<title>cluster_2</title>\n",
       "<polygon fill=\"none\" stroke=\"black\" stroke-dasharray=\"5,2\" points=\"8,-400.25 8,-1042.5 198,-1042.5 198,-400.25 8,-400.25\"/>\n",
       "<text text-anchor=\"middle\" x=\"39.25\" y=\"-1027.1\" font-family=\"Times New Roman,serif\" font-size=\"12.00\">Sequential</text>\n",
       "</g>\n",
       "<g id=\"clust2\" class=\"cluster\">\n",
       "<title>cluster_3</title>\n",
       "<polygon fill=\"none\" stroke=\"black\" stroke-dasharray=\"5,2\" points=\"26,-8 26,-320.25 180,-320.25 180,-8 26,-8\"/>\n",
       "<text text-anchor=\"middle\" x=\"57.25\" y=\"-304.85\" font-family=\"Times New Roman,serif\" font-size=\"12.00\">Sequential</text>\n",
       "</g>\n",
       "<!-- 0 -->\n",
       "<g id=\"node1\" class=\"node\">\n",
       "<title>0</title>\n",
       "<polygon fill=\"lightyellow\" stroke=\"none\" points=\"167.38,-1084.5 38.62,-1084.5 38.62,-1050.5 167.38,-1050.5 167.38,-1084.5\"/>\n",
       "<polygon fill=\"none\" stroke=\"black\" points=\"38.62,-1050.5 38.62,-1084.5 100.38,-1084.5 100.38,-1050.5 38.62,-1050.5\"/>\n",
       "<text text-anchor=\"start\" x=\"43.62\" y=\"-1070\" font-family=\"Linux libertine\" font-size=\"10.00\">input&#45;tensor</text>\n",
       "<text text-anchor=\"start\" x=\"53\" y=\"-1058\" font-family=\"Linux libertine\" font-size=\"10.00\">depth:0</text>\n",
       "<polygon fill=\"none\" stroke=\"black\" points=\"100.38,-1050.5 100.38,-1084.5 167.38,-1084.5 167.38,-1050.5 100.38,-1050.5\"/>\n",
       "<text text-anchor=\"start\" x=\"105.38\" y=\"-1064\" font-family=\"Linux libertine\" font-size=\"10.00\">(1, 1, 28, 28)</text>\n",
       "</g>\n",
       "<!-- 1 -->\n",
       "<g id=\"node2\" class=\"node\">\n",
       "<title>1</title>\n",
       "<polygon fill=\"#c1ffc1\" stroke=\"none\" points=\"183.5,-1012.25 22.5,-1012.25 22.5,-968.25 183.5,-968.25 183.5,-1012.25\"/>\n",
       "<polygon fill=\"none\" stroke=\"black\" points=\"22.5,-968.25 22.5,-1012.25 65.5,-1012.25 65.5,-968.25 22.5,-968.25\"/>\n",
       "<text text-anchor=\"start\" x=\"28.25\" y=\"-992.75\" font-family=\"Linux libertine\" font-size=\"10.00\">Conv2d</text>\n",
       "<text text-anchor=\"start\" x=\"27.5\" y=\"-980.75\" font-family=\"Linux libertine\" font-size=\"10.00\">depth:2</text>\n",
       "<polygon fill=\"none\" stroke=\"black\" points=\"65.5,-990.25 65.5,-1012.25 108.5,-1012.25 108.5,-990.25 65.5,-990.25\"/>\n",
       "<text text-anchor=\"start\" x=\"74.62\" y=\"-997.75\" font-family=\"Linux libertine\" font-size=\"10.00\">input:</text>\n",
       "<polygon fill=\"none\" stroke=\"black\" points=\"108.5,-990.25 108.5,-1012.25 183.5,-1012.25 183.5,-990.25 108.5,-990.25\"/>\n",
       "<text text-anchor=\"start\" x=\"116\" y=\"-997.75\" font-family=\"Linux libertine\" font-size=\"10.00\">(1, 1, 28, 28) </text>\n",
       "<polygon fill=\"none\" stroke=\"black\" points=\"65.5,-968.25 65.5,-990.25 108.5,-990.25 108.5,-968.25 65.5,-968.25\"/>\n",
       "<text text-anchor=\"start\" x=\"70.12\" y=\"-975.75\" font-family=\"Linux libertine\" font-size=\"10.00\">output: </text>\n",
       "<polygon fill=\"none\" stroke=\"black\" points=\"108.5,-968.25 108.5,-990.25 183.5,-990.25 183.5,-968.25 108.5,-968.25\"/>\n",
       "<text text-anchor=\"start\" x=\"113.38\" y=\"-975.75\" font-family=\"Linux libertine\" font-size=\"10.00\">(1, 32, 24, 24) </text>\n",
       "</g>\n",
       "<!-- 0&#45;&gt;1 -->\n",
       "<g id=\"edge1\" class=\"edge\">\n",
       "<title>0&#45;&gt;1</title>\n",
       "<path fill=\"none\" stroke=\"black\" d=\"M103,-1050.54C103,-1042.65 103,-1032.84 103,-1023.48\"/>\n",
       "<polygon fill=\"black\" stroke=\"black\" points=\"106.5,-1023.56 103,-1013.56 99.5,-1023.56 106.5,-1023.56\"/>\n",
       "</g>\n",
       "<!-- 2 -->\n",
       "<g id=\"node3\" class=\"node\">\n",
       "<title>2</title>\n",
       "<polygon fill=\"#c1ffc1\" stroke=\"none\" points=\"183.5,-932.25 22.5,-932.25 22.5,-888.25 183.5,-888.25 183.5,-932.25\"/>\n",
       "<polygon fill=\"none\" stroke=\"black\" points=\"22.5,-888.25 22.5,-932.25 65.5,-932.25 65.5,-888.25 22.5,-888.25\"/>\n",
       "<text text-anchor=\"start\" x=\"33.12\" y=\"-912.75\" font-family=\"Linux libertine\" font-size=\"10.00\">ReLU</text>\n",
       "<text text-anchor=\"start\" x=\"27.5\" y=\"-900.75\" font-family=\"Linux libertine\" font-size=\"10.00\">depth:2</text>\n",
       "<polygon fill=\"none\" stroke=\"black\" points=\"65.5,-910.25 65.5,-932.25 108.5,-932.25 108.5,-910.25 65.5,-910.25\"/>\n",
       "<text text-anchor=\"start\" x=\"74.62\" y=\"-917.75\" font-family=\"Linux libertine\" font-size=\"10.00\">input:</text>\n",
       "<polygon fill=\"none\" stroke=\"black\" points=\"108.5,-910.25 108.5,-932.25 183.5,-932.25 183.5,-910.25 108.5,-910.25\"/>\n",
       "<text text-anchor=\"start\" x=\"113.38\" y=\"-917.75\" font-family=\"Linux libertine\" font-size=\"10.00\">(1, 32, 24, 24) </text>\n",
       "<polygon fill=\"none\" stroke=\"black\" points=\"65.5,-888.25 65.5,-910.25 108.5,-910.25 108.5,-888.25 65.5,-888.25\"/>\n",
       "<text text-anchor=\"start\" x=\"70.12\" y=\"-895.75\" font-family=\"Linux libertine\" font-size=\"10.00\">output: </text>\n",
       "<polygon fill=\"none\" stroke=\"black\" points=\"108.5,-888.25 108.5,-910.25 183.5,-910.25 183.5,-888.25 108.5,-888.25\"/>\n",
       "<text text-anchor=\"start\" x=\"113.38\" y=\"-895.75\" font-family=\"Linux libertine\" font-size=\"10.00\">(1, 32, 24, 24) </text>\n",
       "</g>\n",
       "<!-- 1&#45;&gt;2 -->\n",
       "<g id=\"edge2\" class=\"edge\">\n",
       "<title>1&#45;&gt;2</title>\n",
       "<path fill=\"none\" stroke=\"black\" d=\"M103,-968.35C103,-960.74 103,-951.95 103,-943.59\"/>\n",
       "<polygon fill=\"black\" stroke=\"black\" points=\"106.5,-943.72 103,-933.72 99.5,-943.72 106.5,-943.72\"/>\n",
       "</g>\n",
       "<!-- 3 -->\n",
       "<g id=\"node4\" class=\"node\">\n",
       "<title>3</title>\n",
       "<polygon fill=\"#c1ffc1\" stroke=\"none\" points=\"189.5,-852.25 16.5,-852.25 16.5,-808.25 189.5,-808.25 189.5,-852.25\"/>\n",
       "<polygon fill=\"none\" stroke=\"black\" points=\"16.5,-808.25 16.5,-852.25 71.5,-852.25 71.5,-808.25 16.5,-808.25\"/>\n",
       "<text text-anchor=\"start\" x=\"21.12\" y=\"-832.75\" font-family=\"Linux libertine\" font-size=\"10.00\">MaxPool2d</text>\n",
       "<text text-anchor=\"start\" x=\"27.5\" y=\"-820.75\" font-family=\"Linux libertine\" font-size=\"10.00\">depth:2</text>\n",
       "<polygon fill=\"none\" stroke=\"black\" points=\"71.5,-830.25 71.5,-852.25 114.5,-852.25 114.5,-830.25 71.5,-830.25\"/>\n",
       "<text text-anchor=\"start\" x=\"80.62\" y=\"-837.75\" font-family=\"Linux libertine\" font-size=\"10.00\">input:</text>\n",
       "<polygon fill=\"none\" stroke=\"black\" points=\"114.5,-830.25 114.5,-852.25 189.5,-852.25 189.5,-830.25 114.5,-830.25\"/>\n",
       "<text text-anchor=\"start\" x=\"119.38\" y=\"-837.75\" font-family=\"Linux libertine\" font-size=\"10.00\">(1, 32, 24, 24) </text>\n",
       "<polygon fill=\"none\" stroke=\"black\" points=\"71.5,-808.25 71.5,-830.25 114.5,-830.25 114.5,-808.25 71.5,-808.25\"/>\n",
       "<text text-anchor=\"start\" x=\"76.12\" y=\"-815.75\" font-family=\"Linux libertine\" font-size=\"10.00\">output: </text>\n",
       "<polygon fill=\"none\" stroke=\"black\" points=\"114.5,-808.25 114.5,-830.25 189.5,-830.25 189.5,-808.25 114.5,-808.25\"/>\n",
       "<text text-anchor=\"start\" x=\"119.38\" y=\"-815.75\" font-family=\"Linux libertine\" font-size=\"10.00\">(1, 32, 12, 12) </text>\n",
       "</g>\n",
       "<!-- 2&#45;&gt;3 -->\n",
       "<g id=\"edge3\" class=\"edge\">\n",
       "<title>2&#45;&gt;3</title>\n",
       "<path fill=\"none\" stroke=\"black\" d=\"M103,-888.35C103,-880.74 103,-871.95 103,-863.59\"/>\n",
       "<polygon fill=\"black\" stroke=\"black\" points=\"106.5,-863.72 103,-853.72 99.5,-863.72 106.5,-863.72\"/>\n",
       "</g>\n",
       "<!-- 4 -->\n",
       "<g id=\"node5\" class=\"node\">\n",
       "<title>4</title>\n",
       "<polygon fill=\"#c1ffc1\" stroke=\"none\" points=\"183.5,-772.25 22.5,-772.25 22.5,-728.25 183.5,-728.25 183.5,-772.25\"/>\n",
       "<polygon fill=\"none\" stroke=\"black\" points=\"22.5,-728.25 22.5,-772.25 65.5,-772.25 65.5,-728.25 22.5,-728.25\"/>\n",
       "<text text-anchor=\"start\" x=\"27.12\" y=\"-752.75\" font-family=\"Linux libertine\" font-size=\"10.00\">Dropout</text>\n",
       "<text text-anchor=\"start\" x=\"27.5\" y=\"-740.75\" font-family=\"Linux libertine\" font-size=\"10.00\">depth:2</text>\n",
       "<polygon fill=\"none\" stroke=\"black\" points=\"65.5,-750.25 65.5,-772.25 108.5,-772.25 108.5,-750.25 65.5,-750.25\"/>\n",
       "<text text-anchor=\"start\" x=\"74.62\" y=\"-757.75\" font-family=\"Linux libertine\" font-size=\"10.00\">input:</text>\n",
       "<polygon fill=\"none\" stroke=\"black\" points=\"108.5,-750.25 108.5,-772.25 183.5,-772.25 183.5,-750.25 108.5,-750.25\"/>\n",
       "<text text-anchor=\"start\" x=\"113.38\" y=\"-757.75\" font-family=\"Linux libertine\" font-size=\"10.00\">(1, 32, 12, 12) </text>\n",
       "<polygon fill=\"none\" stroke=\"black\" points=\"65.5,-728.25 65.5,-750.25 108.5,-750.25 108.5,-728.25 65.5,-728.25\"/>\n",
       "<text text-anchor=\"start\" x=\"70.12\" y=\"-735.75\" font-family=\"Linux libertine\" font-size=\"10.00\">output: </text>\n",
       "<polygon fill=\"none\" stroke=\"black\" points=\"108.5,-728.25 108.5,-750.25 183.5,-750.25 183.5,-728.25 108.5,-728.25\"/>\n",
       "<text text-anchor=\"start\" x=\"113.38\" y=\"-735.75\" font-family=\"Linux libertine\" font-size=\"10.00\">(1, 32, 12, 12) </text>\n",
       "</g>\n",
       "<!-- 3&#45;&gt;4 -->\n",
       "<g id=\"edge4\" class=\"edge\">\n",
       "<title>3&#45;&gt;4</title>\n",
       "<path fill=\"none\" stroke=\"black\" d=\"M103,-808.35C103,-800.74 103,-791.95 103,-783.59\"/>\n",
       "<polygon fill=\"black\" stroke=\"black\" points=\"106.5,-783.72 103,-773.72 99.5,-783.72 106.5,-783.72\"/>\n",
       "</g>\n",
       "<!-- 5 -->\n",
       "<g id=\"node6\" class=\"node\">\n",
       "<title>5</title>\n",
       "<polygon fill=\"#c1ffc1\" stroke=\"none\" points=\"183.5,-692.25 22.5,-692.25 22.5,-648.25 183.5,-648.25 183.5,-692.25\"/>\n",
       "<polygon fill=\"none\" stroke=\"black\" points=\"22.5,-648.25 22.5,-692.25 65.5,-692.25 65.5,-648.25 22.5,-648.25\"/>\n",
       "<text text-anchor=\"start\" x=\"28.25\" y=\"-672.75\" font-family=\"Linux libertine\" font-size=\"10.00\">Conv2d</text>\n",
       "<text text-anchor=\"start\" x=\"27.5\" y=\"-660.75\" font-family=\"Linux libertine\" font-size=\"10.00\">depth:2</text>\n",
       "<polygon fill=\"none\" stroke=\"black\" points=\"65.5,-670.25 65.5,-692.25 108.5,-692.25 108.5,-670.25 65.5,-670.25\"/>\n",
       "<text text-anchor=\"start\" x=\"74.62\" y=\"-677.75\" font-family=\"Linux libertine\" font-size=\"10.00\">input:</text>\n",
       "<polygon fill=\"none\" stroke=\"black\" points=\"108.5,-670.25 108.5,-692.25 183.5,-692.25 183.5,-670.25 108.5,-670.25\"/>\n",
       "<text text-anchor=\"start\" x=\"113.38\" y=\"-677.75\" font-family=\"Linux libertine\" font-size=\"10.00\">(1, 32, 12, 12) </text>\n",
       "<polygon fill=\"none\" stroke=\"black\" points=\"65.5,-648.25 65.5,-670.25 108.5,-670.25 108.5,-648.25 65.5,-648.25\"/>\n",
       "<text text-anchor=\"start\" x=\"70.12\" y=\"-655.75\" font-family=\"Linux libertine\" font-size=\"10.00\">output: </text>\n",
       "<polygon fill=\"none\" stroke=\"black\" points=\"108.5,-648.25 108.5,-670.25 183.5,-670.25 183.5,-648.25 108.5,-648.25\"/>\n",
       "<text text-anchor=\"start\" x=\"118.62\" y=\"-655.75\" font-family=\"Linux libertine\" font-size=\"10.00\">(1, 64, 8, 8) </text>\n",
       "</g>\n",
       "<!-- 4&#45;&gt;5 -->\n",
       "<g id=\"edge5\" class=\"edge\">\n",
       "<title>4&#45;&gt;5</title>\n",
       "<path fill=\"none\" stroke=\"black\" d=\"M103,-728.35C103,-720.74 103,-711.95 103,-703.59\"/>\n",
       "<polygon fill=\"black\" stroke=\"black\" points=\"106.5,-703.72 103,-693.72 99.5,-703.72 106.5,-703.72\"/>\n",
       "</g>\n",
       "<!-- 6 -->\n",
       "<g id=\"node7\" class=\"node\">\n",
       "<title>6</title>\n",
       "<polygon fill=\"#c1ffc1\" stroke=\"none\" points=\"178,-612.25 28,-612.25 28,-568.25 178,-568.25 178,-612.25\"/>\n",
       "<polygon fill=\"none\" stroke=\"black\" points=\"28,-568.25 28,-612.25 71,-612.25 71,-568.25 28,-568.25\"/>\n",
       "<text text-anchor=\"start\" x=\"38.62\" y=\"-592.75\" font-family=\"Linux libertine\" font-size=\"10.00\">ReLU</text>\n",
       "<text text-anchor=\"start\" x=\"33\" y=\"-580.75\" font-family=\"Linux libertine\" font-size=\"10.00\">depth:2</text>\n",
       "<polygon fill=\"none\" stroke=\"black\" points=\"71,-590.25 71,-612.25 114,-612.25 114,-590.25 71,-590.25\"/>\n",
       "<text text-anchor=\"start\" x=\"80.12\" y=\"-597.75\" font-family=\"Linux libertine\" font-size=\"10.00\">input:</text>\n",
       "<polygon fill=\"none\" stroke=\"black\" points=\"114,-590.25 114,-612.25 178,-612.25 178,-590.25 114,-590.25\"/>\n",
       "<text text-anchor=\"start\" x=\"118.62\" y=\"-597.75\" font-family=\"Linux libertine\" font-size=\"10.00\">(1, 64, 8, 8) </text>\n",
       "<polygon fill=\"none\" stroke=\"black\" points=\"71,-568.25 71,-590.25 114,-590.25 114,-568.25 71,-568.25\"/>\n",
       "<text text-anchor=\"start\" x=\"75.62\" y=\"-575.75\" font-family=\"Linux libertine\" font-size=\"10.00\">output: </text>\n",
       "<polygon fill=\"none\" stroke=\"black\" points=\"114,-568.25 114,-590.25 178,-590.25 178,-568.25 114,-568.25\"/>\n",
       "<text text-anchor=\"start\" x=\"118.62\" y=\"-575.75\" font-family=\"Linux libertine\" font-size=\"10.00\">(1, 64, 8, 8) </text>\n",
       "</g>\n",
       "<!-- 5&#45;&gt;6 -->\n",
       "<g id=\"edge6\" class=\"edge\">\n",
       "<title>5&#45;&gt;6</title>\n",
       "<path fill=\"none\" stroke=\"black\" d=\"M103,-648.35C103,-640.74 103,-631.95 103,-623.59\"/>\n",
       "<polygon fill=\"black\" stroke=\"black\" points=\"106.5,-623.72 103,-613.72 99.5,-623.72 106.5,-623.72\"/>\n",
       "</g>\n",
       "<!-- 7 -->\n",
       "<g id=\"node8\" class=\"node\">\n",
       "<title>7</title>\n",
       "<polygon fill=\"#c1ffc1\" stroke=\"none\" points=\"184,-532.25 22,-532.25 22,-488.25 184,-488.25 184,-532.25\"/>\n",
       "<polygon fill=\"none\" stroke=\"black\" points=\"22,-488.25 22,-532.25 77,-532.25 77,-488.25 22,-488.25\"/>\n",
       "<text text-anchor=\"start\" x=\"26.62\" y=\"-512.75\" font-family=\"Linux libertine\" font-size=\"10.00\">MaxPool2d</text>\n",
       "<text text-anchor=\"start\" x=\"33\" y=\"-500.75\" font-family=\"Linux libertine\" font-size=\"10.00\">depth:2</text>\n",
       "<polygon fill=\"none\" stroke=\"black\" points=\"77,-510.25 77,-532.25 120,-532.25 120,-510.25 77,-510.25\"/>\n",
       "<text text-anchor=\"start\" x=\"86.12\" y=\"-517.75\" font-family=\"Linux libertine\" font-size=\"10.00\">input:</text>\n",
       "<polygon fill=\"none\" stroke=\"black\" points=\"120,-510.25 120,-532.25 184,-532.25 184,-510.25 120,-510.25\"/>\n",
       "<text text-anchor=\"start\" x=\"124.62\" y=\"-517.75\" font-family=\"Linux libertine\" font-size=\"10.00\">(1, 64, 8, 8) </text>\n",
       "<polygon fill=\"none\" stroke=\"black\" points=\"77,-488.25 77,-510.25 120,-510.25 120,-488.25 77,-488.25\"/>\n",
       "<text text-anchor=\"start\" x=\"81.62\" y=\"-495.75\" font-family=\"Linux libertine\" font-size=\"10.00\">output: </text>\n",
       "<polygon fill=\"none\" stroke=\"black\" points=\"120,-488.25 120,-510.25 184,-510.25 184,-488.25 120,-488.25\"/>\n",
       "<text text-anchor=\"start\" x=\"124.62\" y=\"-495.75\" font-family=\"Linux libertine\" font-size=\"10.00\">(1, 64, 4, 4) </text>\n",
       "</g>\n",
       "<!-- 6&#45;&gt;7 -->\n",
       "<g id=\"edge7\" class=\"edge\">\n",
       "<title>6&#45;&gt;7</title>\n",
       "<path fill=\"none\" stroke=\"black\" d=\"M103,-568.35C103,-560.74 103,-551.95 103,-543.59\"/>\n",
       "<polygon fill=\"black\" stroke=\"black\" points=\"106.5,-543.72 103,-533.72 99.5,-543.72 106.5,-543.72\"/>\n",
       "</g>\n",
       "<!-- 8 -->\n",
       "<g id=\"node9\" class=\"node\">\n",
       "<title>8</title>\n",
       "<polygon fill=\"#c1ffc1\" stroke=\"none\" points=\"178,-452.25 28,-452.25 28,-408.25 178,-408.25 178,-452.25\"/>\n",
       "<polygon fill=\"none\" stroke=\"black\" points=\"28,-408.25 28,-452.25 71,-452.25 71,-408.25 28,-408.25\"/>\n",
       "<text text-anchor=\"start\" x=\"32.62\" y=\"-432.75\" font-family=\"Linux libertine\" font-size=\"10.00\">Dropout</text>\n",
       "<text text-anchor=\"start\" x=\"33\" y=\"-420.75\" font-family=\"Linux libertine\" font-size=\"10.00\">depth:2</text>\n",
       "<polygon fill=\"none\" stroke=\"black\" points=\"71,-430.25 71,-452.25 114,-452.25 114,-430.25 71,-430.25\"/>\n",
       "<text text-anchor=\"start\" x=\"80.12\" y=\"-437.75\" font-family=\"Linux libertine\" font-size=\"10.00\">input:</text>\n",
       "<polygon fill=\"none\" stroke=\"black\" points=\"114,-430.25 114,-452.25 178,-452.25 178,-430.25 114,-430.25\"/>\n",
       "<text text-anchor=\"start\" x=\"118.62\" y=\"-437.75\" font-family=\"Linux libertine\" font-size=\"10.00\">(1, 64, 4, 4) </text>\n",
       "<polygon fill=\"none\" stroke=\"black\" points=\"71,-408.25 71,-430.25 114,-430.25 114,-408.25 71,-408.25\"/>\n",
       "<text text-anchor=\"start\" x=\"75.62\" y=\"-415.75\" font-family=\"Linux libertine\" font-size=\"10.00\">output: </text>\n",
       "<polygon fill=\"none\" stroke=\"black\" points=\"114,-408.25 114,-430.25 178,-430.25 178,-408.25 114,-408.25\"/>\n",
       "<text text-anchor=\"start\" x=\"118.62\" y=\"-415.75\" font-family=\"Linux libertine\" font-size=\"10.00\">(1, 64, 4, 4) </text>\n",
       "</g>\n",
       "<!-- 7&#45;&gt;8 -->\n",
       "<g id=\"edge8\" class=\"edge\">\n",
       "<title>7&#45;&gt;8</title>\n",
       "<path fill=\"none\" stroke=\"black\" d=\"M103,-488.35C103,-480.74 103,-471.95 103,-463.59\"/>\n",
       "<polygon fill=\"black\" stroke=\"black\" points=\"106.5,-463.72 103,-453.72 99.5,-463.72 106.5,-463.72\"/>\n",
       "</g>\n",
       "<!-- 9 -->\n",
       "<g id=\"node10\" class=\"node\">\n",
       "<title>9</title>\n",
       "<polygon fill=\"aliceblue\" stroke=\"none\" points=\"178,-372.25 28,-372.25 28,-328.25 178,-328.25 178,-372.25\"/>\n",
       "<polygon fill=\"none\" stroke=\"black\" points=\"28,-328.25 28,-372.25 71,-372.25 71,-328.25 28,-328.25\"/>\n",
       "<text text-anchor=\"start\" x=\"39.75\" y=\"-352.75\" font-family=\"Linux libertine\" font-size=\"10.00\">view</text>\n",
       "<text text-anchor=\"start\" x=\"33\" y=\"-340.75\" font-family=\"Linux libertine\" font-size=\"10.00\">depth:1</text>\n",
       "<polygon fill=\"none\" stroke=\"black\" points=\"71,-350.25 71,-372.25 114,-372.25 114,-350.25 71,-350.25\"/>\n",
       "<text text-anchor=\"start\" x=\"80.12\" y=\"-357.75\" font-family=\"Linux libertine\" font-size=\"10.00\">input:</text>\n",
       "<polygon fill=\"none\" stroke=\"black\" points=\"114,-350.25 114,-372.25 178,-372.25 178,-350.25 114,-350.25\"/>\n",
       "<text text-anchor=\"start\" x=\"118.62\" y=\"-357.75\" font-family=\"Linux libertine\" font-size=\"10.00\">(1, 64, 4, 4) </text>\n",
       "<polygon fill=\"none\" stroke=\"black\" points=\"71,-328.25 71,-350.25 114,-350.25 114,-328.25 71,-328.25\"/>\n",
       "<text text-anchor=\"start\" x=\"75.62\" y=\"-335.75\" font-family=\"Linux libertine\" font-size=\"10.00\">output: </text>\n",
       "<polygon fill=\"none\" stroke=\"black\" points=\"114,-328.25 114,-350.25 178,-350.25 178,-328.25 114,-328.25\"/>\n",
       "<text text-anchor=\"start\" x=\"124.62\" y=\"-335.75\" font-family=\"Linux libertine\" font-size=\"10.00\">(1, 1024) </text>\n",
       "</g>\n",
       "<!-- 8&#45;&gt;9 -->\n",
       "<g id=\"edge9\" class=\"edge\">\n",
       "<title>8&#45;&gt;9</title>\n",
       "<path fill=\"none\" stroke=\"black\" d=\"M103,-408.35C103,-400.74 103,-391.95 103,-383.59\"/>\n",
       "<polygon fill=\"black\" stroke=\"black\" points=\"106.5,-383.72 103,-373.72 99.5,-383.72 106.5,-383.72\"/>\n",
       "</g>\n",
       "<!-- 10 -->\n",
       "<g id=\"node11\" class=\"node\">\n",
       "<title>10</title>\n",
       "<polygon fill=\"#c1ffc1\" stroke=\"none\" points=\"172,-290 34,-290 34,-246 172,-246 172,-290\"/>\n",
       "<polygon fill=\"none\" stroke=\"black\" points=\"34,-246 34,-290 77,-290 77,-246 34,-246\"/>\n",
       "<text text-anchor=\"start\" x=\"42.38\" y=\"-270.5\" font-family=\"Linux libertine\" font-size=\"10.00\">Linear</text>\n",
       "<text text-anchor=\"start\" x=\"39\" y=\"-258.5\" font-family=\"Linux libertine\" font-size=\"10.00\">depth:2</text>\n",
       "<polygon fill=\"none\" stroke=\"black\" points=\"77,-268 77,-290 120,-290 120,-268 77,-268\"/>\n",
       "<text text-anchor=\"start\" x=\"86.12\" y=\"-275.5\" font-family=\"Linux libertine\" font-size=\"10.00\">input:</text>\n",
       "<polygon fill=\"none\" stroke=\"black\" points=\"120,-268 120,-290 172,-290 172,-268 120,-268\"/>\n",
       "<text text-anchor=\"start\" x=\"124.62\" y=\"-275.5\" font-family=\"Linux libertine\" font-size=\"10.00\">(1, 1024) </text>\n",
       "<polygon fill=\"none\" stroke=\"black\" points=\"77,-246 77,-268 120,-268 120,-246 77,-246\"/>\n",
       "<text text-anchor=\"start\" x=\"81.62\" y=\"-253.5\" font-family=\"Linux libertine\" font-size=\"10.00\">output: </text>\n",
       "<polygon fill=\"none\" stroke=\"black\" points=\"120,-246 120,-268 172,-268 172,-246 120,-246\"/>\n",
       "<text text-anchor=\"start\" x=\"127.25\" y=\"-253.5\" font-family=\"Linux libertine\" font-size=\"10.00\">(1, 512) </text>\n",
       "</g>\n",
       "<!-- 9&#45;&gt;10 -->\n",
       "<g id=\"edge10\" class=\"edge\">\n",
       "<title>9&#45;&gt;10</title>\n",
       "<path fill=\"none\" stroke=\"black\" d=\"M103,-328.58C103,-320.22 103,-310.38 103,-301.12\"/>\n",
       "<polygon fill=\"black\" stroke=\"black\" points=\"106.5,-301.39 103,-291.39 99.5,-301.39 106.5,-301.39\"/>\n",
       "</g>\n",
       "<!-- 11 -->\n",
       "<g id=\"node12\" class=\"node\">\n",
       "<title>11</title>\n",
       "<polygon fill=\"#c1ffc1\" stroke=\"none\" points=\"169.5,-210 36.5,-210 36.5,-166 169.5,-166 169.5,-210\"/>\n",
       "<polygon fill=\"none\" stroke=\"black\" points=\"36.5,-166 36.5,-210 79.5,-210 79.5,-166 36.5,-166\"/>\n",
       "<text text-anchor=\"start\" x=\"47.12\" y=\"-190.5\" font-family=\"Linux libertine\" font-size=\"10.00\">ReLU</text>\n",
       "<text text-anchor=\"start\" x=\"41.5\" y=\"-178.5\" font-family=\"Linux libertine\" font-size=\"10.00\">depth:2</text>\n",
       "<polygon fill=\"none\" stroke=\"black\" points=\"79.5,-188 79.5,-210 122.5,-210 122.5,-188 79.5,-188\"/>\n",
       "<text text-anchor=\"start\" x=\"88.62\" y=\"-195.5\" font-family=\"Linux libertine\" font-size=\"10.00\">input:</text>\n",
       "<polygon fill=\"none\" stroke=\"black\" points=\"122.5,-188 122.5,-210 169.5,-210 169.5,-188 122.5,-188\"/>\n",
       "<text text-anchor=\"start\" x=\"127.25\" y=\"-195.5\" font-family=\"Linux libertine\" font-size=\"10.00\">(1, 512) </text>\n",
       "<polygon fill=\"none\" stroke=\"black\" points=\"79.5,-166 79.5,-188 122.5,-188 122.5,-166 79.5,-166\"/>\n",
       "<text text-anchor=\"start\" x=\"84.12\" y=\"-173.5\" font-family=\"Linux libertine\" font-size=\"10.00\">output: </text>\n",
       "<polygon fill=\"none\" stroke=\"black\" points=\"122.5,-166 122.5,-188 169.5,-188 169.5,-166 122.5,-166\"/>\n",
       "<text text-anchor=\"start\" x=\"127.25\" y=\"-173.5\" font-family=\"Linux libertine\" font-size=\"10.00\">(1, 512) </text>\n",
       "</g>\n",
       "<!-- 10&#45;&gt;11 -->\n",
       "<g id=\"edge11\" class=\"edge\">\n",
       "<title>10&#45;&gt;11</title>\n",
       "<path fill=\"none\" stroke=\"black\" d=\"M103,-246.1C103,-238.49 103,-229.7 103,-221.34\"/>\n",
       "<polygon fill=\"black\" stroke=\"black\" points=\"106.5,-221.47 103,-211.47 99.5,-221.47 106.5,-221.47\"/>\n",
       "</g>\n",
       "<!-- 12 -->\n",
       "<g id=\"node13\" class=\"node\">\n",
       "<title>12</title>\n",
       "<polygon fill=\"#c1ffc1\" stroke=\"none\" points=\"169.5,-130 36.5,-130 36.5,-86 169.5,-86 169.5,-130\"/>\n",
       "<polygon fill=\"none\" stroke=\"black\" points=\"36.5,-86 36.5,-130 79.5,-130 79.5,-86 36.5,-86\"/>\n",
       "<text text-anchor=\"start\" x=\"44.88\" y=\"-110.5\" font-family=\"Linux libertine\" font-size=\"10.00\">Linear</text>\n",
       "<text text-anchor=\"start\" x=\"41.5\" y=\"-98.5\" font-family=\"Linux libertine\" font-size=\"10.00\">depth:2</text>\n",
       "<polygon fill=\"none\" stroke=\"black\" points=\"79.5,-108 79.5,-130 122.5,-130 122.5,-108 79.5,-108\"/>\n",
       "<text text-anchor=\"start\" x=\"88.62\" y=\"-115.5\" font-family=\"Linux libertine\" font-size=\"10.00\">input:</text>\n",
       "<polygon fill=\"none\" stroke=\"black\" points=\"122.5,-108 122.5,-130 169.5,-130 169.5,-108 122.5,-108\"/>\n",
       "<text text-anchor=\"start\" x=\"127.25\" y=\"-115.5\" font-family=\"Linux libertine\" font-size=\"10.00\">(1, 512) </text>\n",
       "<polygon fill=\"none\" stroke=\"black\" points=\"79.5,-86 79.5,-108 122.5,-108 122.5,-86 79.5,-86\"/>\n",
       "<text text-anchor=\"start\" x=\"84.12\" y=\"-93.5\" font-family=\"Linux libertine\" font-size=\"10.00\">output: </text>\n",
       "<polygon fill=\"none\" stroke=\"black\" points=\"122.5,-86 122.5,-108 169.5,-108 169.5,-86 122.5,-86\"/>\n",
       "<text text-anchor=\"start\" x=\"129.88\" y=\"-93.5\" font-family=\"Linux libertine\" font-size=\"10.00\">(1, 10) </text>\n",
       "</g>\n",
       "<!-- 11&#45;&gt;12 -->\n",
       "<g id=\"edge12\" class=\"edge\">\n",
       "<title>11&#45;&gt;12</title>\n",
       "<path fill=\"none\" stroke=\"black\" d=\"M103,-166.1C103,-158.49 103,-149.7 103,-141.34\"/>\n",
       "<polygon fill=\"black\" stroke=\"black\" points=\"106.5,-141.47 103,-131.47 99.5,-141.47 106.5,-141.47\"/>\n",
       "</g>\n",
       "<!-- 13 -->\n",
       "<g id=\"node14\" class=\"node\">\n",
       "<title>13</title>\n",
       "<polygon fill=\"lightyellow\" stroke=\"none\" points=\"156.5,-50 49.5,-50 49.5,-16 156.5,-16 156.5,-50\"/>\n",
       "<polygon fill=\"none\" stroke=\"black\" points=\"49.5,-16 49.5,-50 117.25,-50 117.25,-16 49.5,-16\"/>\n",
       "<text text-anchor=\"start\" x=\"54.5\" y=\"-35.5\" font-family=\"Linux libertine\" font-size=\"10.00\">output&#45;tensor</text>\n",
       "<text text-anchor=\"start\" x=\"66.88\" y=\"-23.5\" font-family=\"Linux libertine\" font-size=\"10.00\">depth:0</text>\n",
       "<polygon fill=\"none\" stroke=\"black\" points=\"117.25,-16 117.25,-50 156.5,-50 156.5,-16 117.25,-16\"/>\n",
       "<text text-anchor=\"start\" x=\"122.25\" y=\"-29.5\" font-family=\"Linux libertine\" font-size=\"10.00\">(1, 10)</text>\n",
       "</g>\n",
       "<!-- 12&#45;&gt;13 -->\n",
       "<g id=\"edge13\" class=\"edge\">\n",
       "<title>12&#45;&gt;13</title>\n",
       "<path fill=\"none\" stroke=\"black\" d=\"M103,-86.28C103,-78.46 103,-69.45 103,-61.13\"/>\n",
       "<polygon fill=\"black\" stroke=\"black\" points=\"106.5,-61.18 103,-51.18 99.5,-61.18 106.5,-61.18\"/>\n",
       "</g>\n",
       "</g>\n",
       "</svg>\n"
      ],
      "text/plain": [
       "<graphviz.graphs.Digraph at 0x27416903e00>"
      ]
     },
     "execution_count": 8,
     "metadata": {},
     "output_type": "execute_result"
    }
   ],
   "source": [
    "from torchview import draw_graph\n",
    "\n",
    "batch_size = 1\n",
    "model_graph = draw_graph(model, input_size=(batch_size, 1, 28, 28), expand_nested=True) # device='meta', \n",
    "model_graph.visual_graph"
   ]
  },
  {
   "cell_type": "markdown",
   "id": "sporting-spouse",
   "metadata": {},
   "source": [
    "**设定损失函数**  \n",
    "使用torch.nn模块自带的CrossEntropy损失  \n",
    "PyTorch会自动把整数型的label转为one-hot型，用于计算CE loss  \n",
    "这里需要确保label是从0开始的，同时模型不加softmax层（使用logits计算）,这也说明了PyTorch训练中各个部分不是独立的，需要通盘考虑"
   ]
  },
  {
   "cell_type": "code",
   "execution_count": 9,
   "id": "front-translation",
   "metadata": {},
   "outputs": [],
   "source": [
    "criterion = nn.CrossEntropyLoss()\n",
    "# criterion = nn.CrossEntropyLoss(weight=[1,1,1,1,3,1,1,1,1,1])"
   ]
  },
  {
   "cell_type": "markdown",
   "id": "reserved-timber",
   "metadata": {},
   "source": [
    "**设定优化器**  \n",
    "这里我们使用Adam优化器  "
   ]
  },
  {
   "cell_type": "code",
   "execution_count": 10,
   "id": "vanilla-detail",
   "metadata": {},
   "outputs": [],
   "source": [
    "optimizer = optim.Adam(model.parameters(), lr=0.001)"
   ]
  },
  {
   "cell_type": "markdown",
   "id": "rental-desperate",
   "metadata": {},
   "source": [
    "**训练和测试（验证）**  \n",
    "各自封装成函数，方便后续调用  \n",
    "关注两者的主要区别：  \n",
    "- 模型状态设置  \n",
    "- 是否需要初始化优化器\n",
    "- 是否需要将loss传回到网络\n",
    "- 是否需要每步更新optimizer  \n",
    "  \n",
    "此外，对于测试或验证过程，可以计算分类准确率"
   ]
  },
  {
   "cell_type": "code",
   "execution_count": 11,
   "id": "clean-deposit",
   "metadata": {},
   "outputs": [],
   "source": [
    "def train(epoch):\n",
    "    model.train()\n",
    "    train_loss = 0\n",
    "    for data, label in train_loader:\n",
    "        data, label = data.cuda(), label.cuda()\n",
    "        optimizer.zero_grad()\n",
    "        output = model(data)\n",
    "        loss = criterion(output, label)\n",
    "        loss.backward()\n",
    "        optimizer.step()\n",
    "        train_loss += loss.item()*data.size(0)\n",
    "    train_loss = train_loss/len(train_loader.dataset)\n",
    "    print('Epoch: {} \\tTraining Loss: {:.6f}'.format(epoch, train_loss))"
   ]
  },
  {
   "cell_type": "code",
   "execution_count": 12,
   "id": "ordered-doubt",
   "metadata": {},
   "outputs": [],
   "source": [
    "def val(epoch):       \n",
    "    model.eval()\n",
    "    val_loss = 0\n",
    "    gt_labels = []\n",
    "    pred_labels = []\n",
    "    with torch.no_grad():\n",
    "        for data, label in test_loader:\n",
    "            data, label = data.cuda(), label.cuda()\n",
    "            output = model(data)\n",
    "            preds = torch.argmax(output, 1)\n",
    "            gt_labels.append(label.cpu().data.numpy())\n",
    "            pred_labels.append(preds.cpu().data.numpy())\n",
    "            loss = criterion(output, label)\n",
    "            val_loss += loss.item()*data.size(0)\n",
    "    val_loss = val_loss/len(test_loader.dataset)\n",
    "    gt_labels, pred_labels = np.concatenate(gt_labels), np.concatenate(pred_labels)\n",
    "    acc = np.sum(gt_labels==pred_labels)/len(pred_labels)\n",
    "    print('Epoch: {} \\tValidation Loss: {:.6f}, Accuracy: {:6f}'.format(epoch, val_loss, acc))"
   ]
  },
  {
   "cell_type": "code",
   "execution_count": 13,
   "id": "indoor-paste",
   "metadata": {},
   "outputs": [
    {
     "name": "stdout",
     "output_type": "stream",
     "text": [
      "Epoch: 1 \tTraining Loss: 0.659762\n",
      "Epoch: 1 \tValidation Loss: 0.445224, Accuracy: 0.832000\n",
      "Epoch: 2 \tTraining Loss: 0.410085\n",
      "Epoch: 2 \tValidation Loss: 0.374410, Accuracy: 0.866600\n",
      "Epoch: 3 \tTraining Loss: 0.353276\n",
      "Epoch: 3 \tValidation Loss: 0.322309, Accuracy: 0.884000\n",
      "Epoch: 4 \tTraining Loss: 0.317720\n",
      "Epoch: 4 \tValidation Loss: 0.301647, Accuracy: 0.890300\n",
      "Epoch: 5 \tTraining Loss: 0.297931\n",
      "Epoch: 5 \tValidation Loss: 0.297034, Accuracy: 0.891500\n",
      "Epoch: 6 \tTraining Loss: 0.280493\n",
      "Epoch: 6 \tValidation Loss: 0.279212, Accuracy: 0.895800\n",
      "Epoch: 7 \tTraining Loss: 0.268811\n",
      "Epoch: 7 \tValidation Loss: 0.260550, Accuracy: 0.905000\n",
      "Epoch: 8 \tTraining Loss: 0.257210\n",
      "Epoch: 8 \tValidation Loss: 0.254875, Accuracy: 0.905900\n",
      "Epoch: 9 \tTraining Loss: 0.246411\n",
      "Epoch: 9 \tValidation Loss: 0.269879, Accuracy: 0.900200\n",
      "Epoch: 10 \tTraining Loss: 0.238834\n",
      "Epoch: 10 \tValidation Loss: 0.250345, Accuracy: 0.906900\n",
      "Epoch: 11 \tTraining Loss: 0.227353\n",
      "Epoch: 11 \tValidation Loss: 0.246728, Accuracy: 0.910300\n",
      "Epoch: 12 \tTraining Loss: 0.221621\n",
      "Epoch: 12 \tValidation Loss: 0.245164, Accuracy: 0.910800\n",
      "Epoch: 13 \tTraining Loss: 0.212016\n",
      "Epoch: 13 \tValidation Loss: 0.233585, Accuracy: 0.912800\n",
      "Epoch: 14 \tTraining Loss: 0.207956\n",
      "Epoch: 14 \tValidation Loss: 0.229403, Accuracy: 0.916100\n",
      "Epoch: 15 \tTraining Loss: 0.201237\n",
      "Epoch: 15 \tValidation Loss: 0.230309, Accuracy: 0.917200\n",
      "Epoch: 16 \tTraining Loss: 0.195071\n",
      "Epoch: 16 \tValidation Loss: 0.230630, Accuracy: 0.915800\n",
      "Epoch: 17 \tTraining Loss: 0.186710\n",
      "Epoch: 17 \tValidation Loss: 0.232016, Accuracy: 0.915700\n",
      "Epoch: 18 \tTraining Loss: 0.182557\n",
      "Epoch: 18 \tValidation Loss: 0.226428, Accuracy: 0.919900\n",
      "Epoch: 19 \tTraining Loss: 0.176349\n",
      "Epoch: 19 \tValidation Loss: 0.232731, Accuracy: 0.917300\n",
      "Epoch: 20 \tTraining Loss: 0.173224\n",
      "Epoch: 20 \tValidation Loss: 0.224558, Accuracy: 0.921500\n"
     ]
    }
   ],
   "source": [
    "for epoch in range(1, epochs+1):\n",
    "    train(epoch)\n",
    "    val(epoch)"
   ]
  },
  {
   "cell_type": "markdown",
   "id": "1acb7989-2bad-43a8-b13e-73b28aa21209",
   "metadata": {},
   "source": [
    "**模型预测**  "
   ]
  },
  {
   "cell_type": "code",
   "execution_count": 16,
   "id": "cb78ee4c-852d-457a-a5ad-41ffb1941658",
   "metadata": {},
   "outputs": [
    {
     "name": "stdout",
     "output_type": "stream",
     "text": [
      "truth: \n",
      " [9 2 1 1 6 1 4 6 5 7 4 5 7 3 4 1 2 4 8 0 2 5 7 9 1 4 6 0 9 3 8 8 3 3 8 0 7\n",
      " 5 7 9 6 1 3 7 6 7 2 1 2 2 4 4 5 8 2 2 8 4 8 0 7 7 8 5 1 1 2 3 9 8 7 0 2 6\n",
      " 2 3 1 2 8 4 1 8 5 9 5 0 3 2 0 6 5 3 6 7 1 8 0 1 4 2 3 6 7 2 7 8 5 9 9 4 2\n",
      " 5 7 0 5 2 8 6 7 8 0 0 9 9 3 0 8 4 1 5 4 1 9 1 8 6 2 1 2 5 1 0 0 0 1 6 1 6\n",
      " 2 2 4 4 1 4 5 0 4 7 9 3 7 2 3 9 0 9 4 7 4 2 0 5 2 1 2 1 3 0 9 1 0 9 3 6 7\n",
      " 9 9 4 4 7 1 2 1 6 3 2 8 3 6 1 1 0 2 9 2 4 0 7 9 8 4 1 8 4 1 3 1 6 7 2 8 5\n",
      " 2 0 7 7 6 2 7 0 7 8 9 2 9 0 5 1 4 4 5 6 9 2 6 8 6 4 2 2 9 7 6 5 5 2]\n",
      "prediction: \n",
      " [9 2 1 1 6 1 4 6 5 7 4 5 7 3 4 1 2 6 8 0 2 5 7 5 1 2 6 0 9 3 8 8 3 3 8 0 7\n",
      " 5 7 9 0 1 6 9 6 7 2 1 6 6 4 4 5 8 2 2 8 4 8 0 7 7 8 5 1 1 6 4 7 8 7 0 2 6\n",
      " 2 3 1 2 8 4 1 8 5 9 5 0 3 2 0 6 5 3 6 7 1 8 0 1 2 2 3 6 7 2 7 8 5 9 9 4 2\n",
      " 5 7 0 5 2 8 6 7 8 0 0 9 9 3 0 8 4 1 5 4 1 9 1 8 4 2 1 2 5 1 0 0 0 1 6 1 3\n",
      " 2 2 3 4 1 4 5 0 4 7 9 3 7 2 3 9 0 9 4 7 4 2 0 5 2 1 2 1 3 0 9 1 0 9 3 6 7\n",
      " 9 9 4 4 7 1 2 1 6 3 2 8 3 6 1 1 0 2 9 2 4 0 7 9 8 4 1 8 4 1 3 1 6 7 2 8 5\n",
      " 2 0 7 7 6 6 7 0 7 8 9 2 9 0 5 1 4 4 5 6 9 2 2 8 6 2 2 2 9 7 0 5 5 2]\n"
     ]
    },
    {
     "data": {
      "image/png": "[encoded data removed]",
      "text/plain": [
       "<Figure size 200x200 with 1 Axes>"
      ]
     },
     "metadata": {},
     "output_type": "display_data"
    },
    {
     "data": {
      "image/png": "[encoded data removed]",
      "text/plain": [
       "<Figure size 200x200 with 1 Axes>"
      ]
     },
     "metadata": {},
     "output_type": "display_data"
    },
    {
     "data": {
      "image/png": "[encoded data removed]",
      "text/plain": [
       "<Figure size 200x200 with 1 Axes>"
      ]
     },
     "metadata": {},
     "output_type": "display_data"
    },
    {
     "data": {
      "image/png": "[encoded data removed]",
      "text/plain": [
       "<Figure size 200x200 with 1 Axes>"
      ]
     },
     "metadata": {},
     "output_type": "display_data"
    },
    {
     "data": {
      "image/png": "[encoded data removed]",
      "text/plain": [
       "<Figure size 200x200 with 1 Axes>"
      ]
     },
     "metadata": {},
     "output_type": "display_data"
    },
    {
     "data": {
      "image/png": "[encoded data removed]",
      "text/plain": [
       "<Figure size 200x200 with 1 Axes>"
      ]
     },
     "metadata": {},
     "output_type": "display_data"
    }
   ],
   "source": [
    "# 测试1个batch\n",
    "data, label = next(iter(test_loader))\n",
    "\n",
    "data, label = data.cuda(), label.cuda()\n",
    "output = model(data)\n",
    "preds = torch.argmax(output, 1)\n",
    "print(\"truth: \\n\", label.cpu().data.numpy()) # [str(idx)+\"-\"+classes[idx] for idx in label.cpu().data.numpy()]) \n",
    "print(\"prediction: \\n\", preds.cpu().data.numpy()) # [str(idx)+\"-\"+classes[idx] for idx in preds.cpu().data.numpy()]) \n",
    "\n",
    "show_items = 0\n",
    "for img, t, p in zip(data.cpu().squeeze(1), \n",
    "                     [str(idx)+\"-\"+classes[idx] for idx in label.cpu().data.numpy()], \n",
    "                     [str(idx)+\"-\"+classes[idx] for idx in preds.cpu().data.numpy()]):    \n",
    "    if show_items > 5:\n",
    "        break\n",
    "        \n",
    "    plt.figure(figsize=(2,2))\n",
    "    plt.title(\"Truth: \" + t + \"\\n\" + \"Prediction: \" + p)\n",
    "    plt.imshow(img, cmap=\"gray\")\n",
    "    plt.axis('off')\n",
    "    plt.show()\n",
    "    \n",
    "    show_items += 1"
   ]
  },
  {
   "cell_type": "markdown",
   "id": "confident-vermont",
   "metadata": {},
   "source": [
    "**模型保存**  \n",
    "训练完成后，可以使用torch.save保存模型参数或者整个模型，也可以在训练过程中保存模型  \n",
    "这部分会在后面的课程中详细介绍"
   ]
  },
  {
   "cell_type": "raw",
   "id": "ceadd171-af4a-457e-8f0d-d14f03114fef",
   "metadata": {},
   "source": [
    "save_path = \"./FahionModel.pt\"\n",
    "torch.save(model, save_path)"
   ]
  },
  {
   "cell_type": "code",
   "execution_count": null,
   "id": "advisory-short",
   "metadata": {},
   "outputs": [],
   "source": []
  }
 ],
 "metadata": {
  "kernelspec": {
   "display_name": "Python 3 (ipykernel)",
   "language": "python",
   "name": "python3"
  },
  "language_info": {
   "codemirror_mode": {
    "name": "ipython",
    "version": 3
   },
   "file_extension": ".py",
   "mimetype": "text/x-python",
   "name": "python",
   "nbconvert_exporter": "python",
   "pygments_lexer": "ipython3",
   "version": "3.12.4"
  }
 },
 "nbformat": 4,
 "nbformat_minor": 5
}
